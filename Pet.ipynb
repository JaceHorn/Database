{
  "nbformat": 4,
  "nbformat_minor": 0,
  "metadata": {
    "colab": {
      "provenance": [],
      "authorship_tag": "ABX9TyNBBuDDRN7VTqMSZkJwA25k",
      "include_colab_link": true
    },
    "kernelspec": {
      "name": "python3",
      "display_name": "Python 3"
    },
    "language_info": {
      "name": "python"
    }
  },
  "cells": [
    {
      "cell_type": "markdown",
      "metadata": {
        "id": "view-in-github",
        "colab_type": "text"
      },
      "source": [
        "<a href=\"https://colab.research.google.com/github/JaceHorn/Database/blob/main/Pet.ipynb\" target=\"_parent\"><img src=\"https://colab.research.google.com/assets/colab-badge.svg\" alt=\"Open In Colab\"/></a>"
      ]
    },
    {
      "cell_type": "code",
      "execution_count": 3,
      "metadata": {
        "colab": {
          "base_uri": "https://localhost:8080/"
        },
        "id": "SXVnpG9E6lDU",
        "outputId": "a205e87a-edd3-4922-d85f-3c836207b22e"
      },
      "outputs": [
        {
          "output_type": "stream",
          "name": "stdout",
          "text": [
            "My pet is a Snake and its is name is scales and is 2 years old.\n",
            "My pet is a Dog and its is name is Stella and is 1 years old.\n"
          ]
        }
      ],
      "source": [
        "class Pet:  #Defining the class\n",
        "  def __init__ (self, animal, name, age):   #Defining method\n",
        "    self.animal = animal\n",
        "    self.name = name\n",
        "    self.age = age\n",
        "  def introduce (self):\n",
        "    print(f\"My pet is a {self.animal} and its is name is {self.name} and is {self.age} years old.\")\n",
        "pet1 = Pet (\"Snake\", \"scales\", 2) #Defining Objects\n",
        "pet2 = Pet (\"Dog\", \"Stella\", 1)\n",
        "pet1.introduce()\n",
        "pet2.introduce()\n"
      ]
    }
  ]
}